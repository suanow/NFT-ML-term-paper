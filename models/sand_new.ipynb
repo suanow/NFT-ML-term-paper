{
 "cells": [
  {
   "cell_type": "code",
   "execution_count": 1,
   "metadata": {},
   "outputs": [],
   "source": [
    "import requests\n",
    "import json\n",
    "import datetime\n",
    "from datetime import datetime\n",
    "import numpy as np\n",
    "import pandas as pd\n",
    "pd.options.display.float_format = '{:.2f}'.format\n",
    "#from ETH_parser import get_floor_price, get_sales_collection, get_sales_token, get_attributes, get_attributes_collection, get_rarity, get_block_timestamp"
   ]
  },
  {
   "cell_type": "code",
   "execution_count": 2,
   "metadata": {},
   "outputs": [],
   "source": [
    "API_KEY = \"vYHU2nVXBMrIHlByeFOQWubnRQcl_v_3\"\n",
    "BAYC = \"0xBC4CA0EdA7647A8aB7C2061c2E118A18a936f13D\""
   ]
  },
  {
   "cell_type": "code",
   "execution_count": 3,
   "metadata": {},
   "outputs": [],
   "source": [
    "def get_floor_price(API: str, address: str) -> dict:\n",
    "    url = f\"https://eth-mainnet.g.alchemy.com/nft/v2/{API}/getFloorPrice?contractAddress={address}\"\n",
    "    headers = {\"accept\": \"application/json\"}\n",
    "    response = requests.get(url, headers=headers)\n",
    "    data = json.loads(response.text)\n",
    "    \n",
    "    prices = {\"opensea\": data['openSea']['floorPrice'],\n",
    "              \"looksrare\": data['looksRare']['floorPrice']}\n",
    "\n",
    "    return prices"
   ]
  },
  {
   "cell_type": "code",
   "execution_count": 4,
   "metadata": {},
   "outputs": [],
   "source": [
    "# OLD\n",
    "# def get_sales_collection(API: str, address: str, limit: int) -> json:\n",
    "#     url = f\"https://eth-mainnet.g.alchemy.com/nft/v3/{API}/getNFTSales?fromBlock=0&toBlock=latest&order=desc&marketplace=seaport&contractAddress={address}&limit={limit}\"\n",
    "#     headers = {\"accept\": \"application/json\"}\n",
    "#     response = requests.get(url, headers=headers)\n",
    "#     data = json.loads(response.text)\n",
    "\n",
    "    \n",
    "#     activity = [{\"tokenId\": sale[\"tokenId\"],\n",
    "#                  \"marketplace\": sale[\"marketplace\"],\n",
    "#                  \"block\": sale[\"blockNumber\"],\n",
    "#                  \"token\": sale[\"sellerFee\"][\"symbol\"],\n",
    "#                  \"price\": 0 if sale[\"sellerFee\"][\"amount\"] is None else int(sale[\"sellerFee\"][\"amount\"]) / 10 ** 18} for sale in data[\"nftSales\"]]\n",
    "\n",
    "#     return activity"
   ]
  },
  {
   "cell_type": "code",
   "execution_count": null,
   "metadata": {},
   "outputs": [],
   "source": [
    "def get_sales_collection(API: str, address: str, limit: int):\n",
    "    url = f\"https://eth-mainnet.g.alchemy.com/nft/v3/{API}/getNFTSales?fromBlock=0&toBlock=latest&order=desc&marketplace=seaport&contractAddress={address}&limit={limit}\"\n",
    "    headers = {\"accept\": \"application/json\"}\n",
    "    response = requests.get(url, headers=headers)\n",
    "    data = json.loads(response.text)\n",
    "\n",
    "    activity = [{\"tokenId\": sale[\"tokenId\"],\n",
    "                 \"marketplace\": sale[\"marketplace\"],\n",
    "                 \"block\": sale[\"blockNumber\"],\n",
    "                 \"token\": sale[\"sellerFee\"][\"symbol\"],\n",
    "                 \"price\": 0 if sale[\"sellerFee\"][\"amount\"] is None else int(sale[\"sellerFee\"][\"amount\"]) / 10 ** 18} for sale in data[\"nftSales\"]]\n",
    "\n",
    "    return pd.DataFrame(activity)"
   ]
  },
  {
   "cell_type": "code",
   "execution_count": 5,
   "metadata": {},
   "outputs": [],
   "source": [
    "def get_sales_token(API: str, address: str, limit: int, tokenId: int) -> json:\n",
    "    url = f\"https://eth-mainnet.g.alchemy.com/nft/v2/{API}/getNFTSales?fromBlock=0&toBlock=latest&order=desc&contractAddress={address}&limit={limit}&tokenId={tokenId}\"\n",
    "    headers = {\"accept\": \"application/json\"}\n",
    "    response = requests.get(url, headers=headers)\n",
    "    data = json.loads(response.text)\n",
    "    \n",
    "    activity = [{\"tokenId\": sale[\"tokenId\"],\n",
    "                 \"marketplace\": sale[\"marketplace\"],\n",
    "                 \"sellerFee\": int(sale[\"sellerFee\"][\"amount\"]) / 10 ** 18} for sale in data[\"nftSales\"]]\n",
    "    \n",
    "    return activity"
   ]
  },
  {
   "cell_type": "code",
   "execution_count": 6,
   "metadata": {},
   "outputs": [],
   "source": [
    "def get_attributes(API: str, address: str, tokenId: int) -> json:\n",
    "    url = f\"https://eth-mainnet.g.alchemy.com/nft/v2/{API}/computeRarity?contractAddress={address}&tokenId={tokenId}\"\n",
    "    headers = {\"accept\": \"application/json\"}\n",
    "    response = requests.get(url, headers=headers)\n",
    "    data = json.loads(response.text)\n",
    "\n",
    "    return data"
   ]
  },
  {
   "cell_type": "code",
   "execution_count": 7,
   "metadata": {},
   "outputs": [],
   "source": [
    "def get_attributes_collection(API: str, address: str) -> json:\n",
    "    url = f\"https://eth-mainnet.g.alchemy.com/nft/v2/{API}/summarizeNFTAttributes?contractAddress={address}\"\n",
    "    headers = {\"accept\": \"application/json\"}\n",
    "    response = requests.get(url, headers=headers)\n",
    "    data = json.loads(response.text)\n",
    "    \n",
    "    return data['summary']"
   ]
  },
  {
   "cell_type": "code",
   "execution_count": 8,
   "metadata": {},
   "outputs": [],
   "source": [
    "def get_rarity(API: str, address: str, tokenId: int) -> json:\n",
    "    data = get_attributes(API=API, address=address, tokenId=tokenId)\n",
    "    \n",
    "    result = 1\n",
    "    for rarity in data:\n",
    "        result *= rarity[\"prevalence\"]\n",
    "        \n",
    "    return result"
   ]
  },
  {
   "cell_type": "code",
   "execution_count": 16,
   "metadata": {},
   "outputs": [],
   "source": [
    "def get_block_timestamp(block_number):\n",
    "    url = f\"https://eth-mainnet.alchemyapi.io/v2/{API_KEY}\"\n",
    "    payload = json.dumps({\n",
    "        \"jsonrpc\": \"2.0\",\n",
    "        \"method\": \"eth_getBlockByNumber\",\n",
    "        \"params\": [hex(block_number), False],\n",
    "        \"id\": 1\n",
    "    })\n",
    "    headers = {\n",
    "        'Content-Type': 'application/json'\n",
    "    }\n",
    "\n",
    "    response = requests.request(\"POST\", url, headers=headers, data=payload)\n",
    "    if response.status_code == 200:\n",
    "        timestamp = response.json()['result']['timestamp']\n",
    "        date_time = datetime.utcfromtimestamp(int(timestamp, 16))\n",
    "        return date_time\n",
    "    else:\n",
    "        return \"error\""
   ]
  },
  {
   "cell_type": "code",
   "execution_count": 19,
   "metadata": {},
   "outputs": [],
   "source": [
    "sales = get_sales_collection(API=API_KEY, address=BAYC, limit=3)"
   ]
  },
  {
   "cell_type": "code",
   "execution_count": 20,
   "metadata": {},
   "outputs": [
    {
     "data": {
      "text/html": [
       "<div>\n",
       "<style scoped>\n",
       "    .dataframe tbody tr th:only-of-type {\n",
       "        vertical-align: middle;\n",
       "    }\n",
       "\n",
       "    .dataframe tbody tr th {\n",
       "        vertical-align: top;\n",
       "    }\n",
       "\n",
       "    .dataframe thead th {\n",
       "        text-align: right;\n",
       "    }\n",
       "</style>\n",
       "<table border=\"1\" class=\"dataframe\">\n",
       "  <thead>\n",
       "    <tr style=\"text-align: right;\">\n",
       "      <th></th>\n",
       "      <th>tokenId</th>\n",
       "      <th>marketplace</th>\n",
       "      <th>block</th>\n",
       "      <th>token</th>\n",
       "      <th>price</th>\n",
       "      <th>date</th>\n",
       "    </tr>\n",
       "  </thead>\n",
       "  <tbody>\n",
       "    <tr>\n",
       "      <th>0</th>\n",
       "      <td>4871</td>\n",
       "      <td>seaport</td>\n",
       "      <td>17415238</td>\n",
       "      <td>ETH</td>\n",
       "      <td>1.24</td>\n",
       "      <td>2023-06-05 15:35:47</td>\n",
       "    </tr>\n",
       "    <tr>\n",
       "      <th>1</th>\n",
       "      <td>8230</td>\n",
       "      <td>seaport</td>\n",
       "      <td>17361994</td>\n",
       "      <td></td>\n",
       "      <td>0.00</td>\n",
       "      <td>2023-05-29 03:31:59</td>\n",
       "    </tr>\n",
       "    <tr>\n",
       "      <th>2</th>\n",
       "      <td>7851</td>\n",
       "      <td>seaport</td>\n",
       "      <td>17295760</td>\n",
       "      <td></td>\n",
       "      <td>0.00</td>\n",
       "      <td>2023-05-19 19:59:47</td>\n",
       "    </tr>\n",
       "  </tbody>\n",
       "</table>\n",
       "</div>"
      ],
      "text/plain": [
       "  tokenId marketplace     block token  price                date\n",
       "0    4871     seaport  17415238   ETH   1.24 2023-06-05 15:35:47\n",
       "1    8230     seaport  17361994         0.00 2023-05-29 03:31:59\n",
       "2    7851     seaport  17295760         0.00 2023-05-19 19:59:47"
      ]
     },
     "execution_count": 20,
     "metadata": {},
     "output_type": "execute_result"
    }
   ],
   "source": [
    "sales['date'] = sales['block'].apply(get_block_timestamp)\n",
    "sales"
   ]
  },
  {
   "cell_type": "code",
   "execution_count": null,
   "metadata": {},
   "outputs": [],
   "source": []
  }
 ],
 "metadata": {
  "kernelspec": {
   "display_name": "base",
   "language": "python",
   "name": "python3"
  },
  "language_info": {
   "codemirror_mode": {
    "name": "ipython",
    "version": 3
   },
   "file_extension": ".py",
   "mimetype": "text/x-python",
   "name": "python",
   "nbconvert_exporter": "python",
   "pygments_lexer": "ipython3",
   "version": "3.9.7"
  },
  "orig_nbformat": 4
 },
 "nbformat": 4,
 "nbformat_minor": 2
}
